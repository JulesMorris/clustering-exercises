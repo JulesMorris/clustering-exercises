{
 "cells": [
  {
   "cell_type": "code",
   "execution_count": 1,
   "id": "2c5c0c48",
   "metadata": {},
   "outputs": [],
   "source": [
    "import numpy as np"
   ]
  },
  {
   "cell_type": "code",
   "execution_count": 2,
   "id": "484bf313",
   "metadata": {},
   "outputs": [],
   "source": [
    "np.array?"
   ]
  },
  {
   "cell_type": "code",
   "execution_count": 3,
   "id": "39ff3144",
   "metadata": {},
   "outputs": [],
   "source": [
    "#ndimensional homogenous array\n",
    "arr = np.array([1, 2, 3])"
   ]
  },
  {
   "cell_type": "code",
   "execution_count": 4,
   "id": "a3088120",
   "metadata": {},
   "outputs": [],
   "source": [
    "from sklearn.datasets import load_wine"
   ]
  },
  {
   "cell_type": "code",
   "execution_count": 5,
   "id": "03d12939",
   "metadata": {},
   "outputs": [],
   "source": [
    "data_bunch = load_wine()"
   ]
  },
  {
   "cell_type": "code",
   "execution_count": 7,
   "id": "179bee29",
   "metadata": {},
   "outputs": [
    {
     "data": {
      "text/plain": [
       "{'data': array([[1.423e+01, 1.710e+00, 2.430e+00, ..., 1.040e+00, 3.920e+00,\n",
       "         1.065e+03],\n",
       "        [1.320e+01, 1.780e+00, 2.140e+00, ..., 1.050e+00, 3.400e+00,\n",
       "         1.050e+03],\n",
       "        [1.316e+01, 2.360e+00, 2.670e+00, ..., 1.030e+00, 3.170e+00,\n",
       "         1.185e+03],\n",
       "        ...,\n",
       "        [1.327e+01, 4.280e+00, 2.260e+00, ..., 5.900e-01, 1.560e+00,\n",
       "         8.350e+02],\n",
       "        [1.317e+01, 2.590e+00, 2.370e+00, ..., 6.000e-01, 1.620e+00,\n",
       "         8.400e+02],\n",
       "        [1.413e+01, 4.100e+00, 2.740e+00, ..., 6.100e-01, 1.600e+00,\n",
       "         5.600e+02]]),\n",
       " 'target': array([0, 0, 0, 0, 0, 0, 0, 0, 0, 0, 0, 0, 0, 0, 0, 0, 0, 0, 0, 0, 0, 0,\n",
       "        0, 0, 0, 0, 0, 0, 0, 0, 0, 0, 0, 0, 0, 0, 0, 0, 0, 0, 0, 0, 0, 0,\n",
       "        0, 0, 0, 0, 0, 0, 0, 0, 0, 0, 0, 0, 0, 0, 0, 1, 1, 1, 1, 1, 1, 1,\n",
       "        1, 1, 1, 1, 1, 1, 1, 1, 1, 1, 1, 1, 1, 1, 1, 1, 1, 1, 1, 1, 1, 1,\n",
       "        1, 1, 1, 1, 1, 1, 1, 1, 1, 1, 1, 1, 1, 1, 1, 1, 1, 1, 1, 1, 1, 1,\n",
       "        1, 1, 1, 1, 1, 1, 1, 1, 1, 1, 1, 1, 1, 1, 1, 1, 1, 1, 1, 1, 2, 2,\n",
       "        2, 2, 2, 2, 2, 2, 2, 2, 2, 2, 2, 2, 2, 2, 2, 2, 2, 2, 2, 2, 2, 2,\n",
       "        2, 2, 2, 2, 2, 2, 2, 2, 2, 2, 2, 2, 2, 2, 2, 2, 2, 2, 2, 2, 2, 2,\n",
       "        2, 2]),\n",
       " 'frame': None,\n",
       " 'target_names': array(['class_0', 'class_1', 'class_2'], dtype='<U7'),\n",
       " 'DESCR': '.. _wine_dataset:\\n\\nWine recognition dataset\\n------------------------\\n\\n**Data Set Characteristics:**\\n\\n    :Number of Instances: 178 (50 in each of three classes)\\n    :Number of Attributes: 13 numeric, predictive attributes and the class\\n    :Attribute Information:\\n \\t\\t- Alcohol\\n \\t\\t- Malic acid\\n \\t\\t- Ash\\n\\t\\t- Alcalinity of ash  \\n \\t\\t- Magnesium\\n\\t\\t- Total phenols\\n \\t\\t- Flavanoids\\n \\t\\t- Nonflavanoid phenols\\n \\t\\t- Proanthocyanins\\n\\t\\t- Color intensity\\n \\t\\t- Hue\\n \\t\\t- OD280/OD315 of diluted wines\\n \\t\\t- Proline\\n\\n    - class:\\n            - class_0\\n            - class_1\\n            - class_2\\n\\t\\t\\n    :Summary Statistics:\\n    \\n    ============================= ==== ===== ======= =====\\n                                   Min   Max   Mean     SD\\n    ============================= ==== ===== ======= =====\\n    Alcohol:                      11.0  14.8    13.0   0.8\\n    Malic Acid:                   0.74  5.80    2.34  1.12\\n    Ash:                          1.36  3.23    2.36  0.27\\n    Alcalinity of Ash:            10.6  30.0    19.5   3.3\\n    Magnesium:                    70.0 162.0    99.7  14.3\\n    Total Phenols:                0.98  3.88    2.29  0.63\\n    Flavanoids:                   0.34  5.08    2.03  1.00\\n    Nonflavanoid Phenols:         0.13  0.66    0.36  0.12\\n    Proanthocyanins:              0.41  3.58    1.59  0.57\\n    Colour Intensity:              1.3  13.0     5.1   2.3\\n    Hue:                          0.48  1.71    0.96  0.23\\n    OD280/OD315 of diluted wines: 1.27  4.00    2.61  0.71\\n    Proline:                       278  1680     746   315\\n    ============================= ==== ===== ======= =====\\n\\n    :Missing Attribute Values: None\\n    :Class Distribution: class_0 (59), class_1 (71), class_2 (48)\\n    :Creator: R.A. Fisher\\n    :Donor: Michael Marshall (MARSHALL%PLU@io.arc.nasa.gov)\\n    :Date: July, 1988\\n\\nThis is a copy of UCI ML Wine recognition datasets.\\nhttps://archive.ics.uci.edu/ml/machine-learning-databases/wine/wine.data\\n\\nThe data is the results of a chemical analysis of wines grown in the same\\nregion in Italy by three different cultivators. There are thirteen different\\nmeasurements taken for different constituents found in the three types of\\nwine.\\n\\nOriginal Owners: \\n\\nForina, M. et al, PARVUS - \\nAn Extendible Package for Data Exploration, Classification and Correlation. \\nInstitute of Pharmaceutical and Food Analysis and Technologies,\\nVia Brigata Salerno, 16147 Genoa, Italy.\\n\\nCitation:\\n\\nLichman, M. (2013). UCI Machine Learning Repository\\n[https://archive.ics.uci.edu/ml]. Irvine, CA: University of California,\\nSchool of Information and Computer Science. \\n\\n.. topic:: References\\n\\n  (1) S. Aeberhard, D. Coomans and O. de Vel, \\n  Comparison of Classifiers in High Dimensional Settings, \\n  Tech. Rep. no. 92-02, (1992), Dept. of Computer Science and Dept. of  \\n  Mathematics and Statistics, James Cook University of North Queensland. \\n  (Also submitted to Technometrics). \\n\\n  The data was used with many others for comparing various \\n  classifiers. The classes are separable, though only RDA \\n  has achieved 100% correct classification. \\n  (RDA : 100%, QDA 99.4%, LDA 98.9%, 1NN 96.1% (z-transformed data)) \\n  (All results using the leave-one-out technique) \\n\\n  (2) S. Aeberhard, D. Coomans and O. de Vel, \\n  \"THE CLASSIFICATION PERFORMANCE OF RDA\" \\n  Tech. Rep. no. 92-01, (1992), Dept. of Computer Science and Dept. of \\n  Mathematics and Statistics, James Cook University of North Queensland. \\n  (Also submitted to Journal of Chemometrics).\\n',\n",
       " 'feature_names': ['alcohol',\n",
       "  'malic_acid',\n",
       "  'ash',\n",
       "  'alcalinity_of_ash',\n",
       "  'magnesium',\n",
       "  'total_phenols',\n",
       "  'flavanoids',\n",
       "  'nonflavanoid_phenols',\n",
       "  'proanthocyanins',\n",
       "  'color_intensity',\n",
       "  'hue',\n",
       "  'od280/od315_of_diluted_wines',\n",
       "  'proline']}"
      ]
     },
     "execution_count": 7,
     "metadata": {},
     "output_type": "execute_result"
    }
   ],
   "source": [
    "data_bunch"
   ]
  },
  {
   "cell_type": "code",
   "execution_count": 8,
   "id": "bee39a78",
   "metadata": {},
   "outputs": [],
   "source": [
    "wine_data_arr = data_bunch['data']"
   ]
  },
  {
   "cell_type": "code",
   "execution_count": 9,
   "id": "6e1f8b3a",
   "metadata": {},
   "outputs": [
    {
     "data": {
      "text/plain": [
       "array([[1.423e+01, 1.710e+00, 2.430e+00, ..., 1.040e+00, 3.920e+00,\n",
       "        1.065e+03],\n",
       "       [1.320e+01, 1.780e+00, 2.140e+00, ..., 1.050e+00, 3.400e+00,\n",
       "        1.050e+03],\n",
       "       [1.316e+01, 2.360e+00, 2.670e+00, ..., 1.030e+00, 3.170e+00,\n",
       "        1.185e+03],\n",
       "       ...,\n",
       "       [1.327e+01, 4.280e+00, 2.260e+00, ..., 5.900e-01, 1.560e+00,\n",
       "        8.350e+02],\n",
       "       [1.317e+01, 2.590e+00, 2.370e+00, ..., 6.000e-01, 1.620e+00,\n",
       "        8.400e+02],\n",
       "       [1.413e+01, 4.100e+00, 2.740e+00, ..., 6.100e-01, 1.600e+00,\n",
       "        5.600e+02]])"
      ]
     },
     "execution_count": 9,
     "metadata": {},
     "output_type": "execute_result"
    }
   ],
   "source": [
    "wine_data_arr"
   ]
  },
  {
   "cell_type": "code",
   "execution_count": 10,
   "id": "1d858418",
   "metadata": {},
   "outputs": [
    {
     "data": {
      "text/plain": [
       "array([1.423e+01, 1.710e+00, 2.430e+00, 1.560e+01, 1.270e+02, 2.800e+00,\n",
       "       3.060e+00, 2.800e-01, 2.290e+00, 5.640e+00, 1.040e+00, 3.920e+00,\n",
       "       1.065e+03])"
      ]
     },
     "execution_count": 10,
     "metadata": {},
     "output_type": "execute_result"
    }
   ],
   "source": [
    "#look at first list in multidimensional array\n",
    "\n",
    "wine_data_arr[0]"
   ]
  },
  {
   "cell_type": "code",
   "execution_count": 11,
   "id": "4ed61fda",
   "metadata": {},
   "outputs": [
    {
     "data": {
      "text/plain": [
       "array([1.41e+01, 2.16e+00, 2.30e+00, 1.80e+01, 1.05e+02, 2.95e+00,\n",
       "       3.32e+00, 2.20e-01, 2.38e+00, 5.75e+00, 1.25e+00, 3.17e+00,\n",
       "       1.51e+03])"
      ]
     },
     "execution_count": 11,
     "metadata": {},
     "output_type": "execute_result"
    }
   ],
   "source": [
    "wine_data_arr[10]"
   ]
  },
  {
   "cell_type": "code",
   "execution_count": 12,
   "id": "b63cfc86",
   "metadata": {},
   "outputs": [
    {
     "data": {
      "text/plain": [
       "(178, 13)"
      ]
     },
     "execution_count": 12,
     "metadata": {},
     "output_type": "execute_result"
    }
   ],
   "source": [
    "#two dimensional data, 178 rows and 13 columns\n",
    "wine_data_arr.shape"
   ]
  },
  {
   "cell_type": "code",
   "execution_count": 13,
   "id": "5126a182",
   "metadata": {},
   "outputs": [
    {
     "data": {
      "text/plain": [
       "['alcohol',\n",
       " 'malic_acid',\n",
       " 'ash',\n",
       " 'alcalinity_of_ash',\n",
       " 'magnesium',\n",
       " 'total_phenols',\n",
       " 'flavanoids',\n",
       " 'nonflavanoid_phenols',\n",
       " 'proanthocyanins',\n",
       " 'color_intensity',\n",
       " 'hue',\n",
       " 'od280/od315_of_diluted_wines',\n",
       " 'proline']"
      ]
     },
     "execution_count": 13,
     "metadata": {},
     "output_type": "execute_result"
    }
   ],
   "source": [
    "data_bunch[\"feature_names\"]"
   ]
  },
  {
   "cell_type": "code",
   "execution_count": 14,
   "id": "b11951ee",
   "metadata": {},
   "outputs": [],
   "source": [
    "#create variable w/ list of feature names\n",
    "feature_names = data_bunch[\"feature_names\"]"
   ]
  },
  {
   "cell_type": "code",
   "execution_count": 15,
   "id": "7bbe96f3",
   "metadata": {},
   "outputs": [
    {
     "data": {
      "text/plain": [
       "['alcohol',\n",
       " 'malic_acid',\n",
       " 'ash',\n",
       " 'alcalinity_of_ash',\n",
       " 'magnesium',\n",
       " 'total_phenols',\n",
       " 'flavanoids',\n",
       " 'nonflavanoid_phenols',\n",
       " 'proanthocyanins',\n",
       " 'color_intensity',\n",
       " 'hue',\n",
       " 'od280/od315_of_diluted_wines',\n",
       " 'proline']"
      ]
     },
     "execution_count": 15,
     "metadata": {},
     "output_type": "execute_result"
    }
   ],
   "source": [
    "feature_names"
   ]
  },
  {
   "cell_type": "code",
   "execution_count": 16,
   "id": "227e40d9",
   "metadata": {},
   "outputs": [],
   "source": [
    "a = [[1, 2, 3], [4, 5, 6]]"
   ]
  },
  {
   "cell_type": "code",
   "execution_count": 18,
   "id": "31f9b8c0",
   "metadata": {},
   "outputs": [
    {
     "name": "stdout",
     "output_type": "stream",
     "text": [
      "1\n",
      "4\n"
     ]
    }
   ],
   "source": [
    "#for loop it iterate over a\n",
    "\n",
    "for item in a:\n",
    "    print(item[0])"
   ]
  },
  {
   "cell_type": "code",
   "execution_count": 19,
   "id": "eb6d75c8",
   "metadata": {},
   "outputs": [
    {
     "data": {
      "text/plain": [
       "[1, 4]"
      ]
     },
     "execution_count": 19,
     "metadata": {},
     "output_type": "execute_result"
    }
   ],
   "source": [
    "#list comprehension to iterate over a\n",
    "\n",
    "[item [0] for item in a]"
   ]
  },
  {
   "cell_type": "code",
   "execution_count": 24,
   "id": "613f6e84",
   "metadata": {},
   "outputs": [
    {
     "data": {
      "text/plain": [
       "(178,)"
      ]
     },
     "execution_count": 24,
     "metadata": {},
     "output_type": "execute_result"
    }
   ],
   "source": [
    "#slicing/indexing\n",
    "#wine_data_arr[row indexer, col indexer]\n",
    "#get all rows, and first column (alcohol)\n",
    "\n",
    "wine_data_arr[:, 0].shape #one dimensional array"
   ]
  },
  {
   "cell_type": "code",
   "execution_count": 21,
   "id": "0d7721d8",
   "metadata": {},
   "outputs": [
    {
     "data": {
      "text/plain": [
       "array([[1.423e+01, 1.710e+00, 2.430e+00, ..., 1.040e+00, 3.920e+00,\n",
       "        1.065e+03],\n",
       "       [1.320e+01, 1.780e+00, 2.140e+00, ..., 1.050e+00, 3.400e+00,\n",
       "        1.050e+03],\n",
       "       [1.316e+01, 2.360e+00, 2.670e+00, ..., 1.030e+00, 3.170e+00,\n",
       "        1.185e+03],\n",
       "       ...,\n",
       "       [1.327e+01, 4.280e+00, 2.260e+00, ..., 5.900e-01, 1.560e+00,\n",
       "        8.350e+02],\n",
       "       [1.317e+01, 2.590e+00, 2.370e+00, ..., 6.000e-01, 1.620e+00,\n",
       "        8.400e+02],\n",
       "       [1.413e+01, 4.100e+00, 2.740e+00, ..., 6.100e-01, 1.600e+00,\n",
       "        5.600e+02]])"
      ]
     },
     "execution_count": 21,
     "metadata": {},
     "output_type": "execute_result"
    }
   ],
   "source": [
    "wine_data_arr"
   ]
  },
  {
   "cell_type": "code",
   "execution_count": 23,
   "id": "2f7ec1e8",
   "metadata": {
    "scrolled": false
   },
   "outputs": [
    {
     "data": {
      "text/plain": [
       "(178, 2)"
      ]
     },
     "execution_count": 23,
     "metadata": {},
     "output_type": "execute_result"
    }
   ],
   "source": [
    "#slicing/indexing\n",
    "#wine_data_arr[row indexer, col indexer]\n",
    "#get alcohol and magnesium columns by using a list\n",
    "\n",
    "wine_data_arr[:, (0, 4)].shape #two dimensional array"
   ]
  },
  {
   "cell_type": "code",
   "execution_count": 27,
   "id": "a1dc0e8c",
   "metadata": {},
   "outputs": [],
   "source": [
    "a = [1, 2, 3, 4, 5, 6, 7, 8, 9, 10]"
   ]
  },
  {
   "cell_type": "code",
   "execution_count": 28,
   "id": "f33b1da2",
   "metadata": {},
   "outputs": [
    {
     "data": {
      "text/plain": [
       "[3, 5, 7, 9]"
      ]
     },
     "execution_count": 28,
     "metadata": {},
     "output_type": "execute_result"
    }
   ],
   "source": [
    "#start:stop:step\n",
    "#start at index 3, stop at index 9, by increments of 2\n",
    "\n",
    "a[2:9:2]"
   ]
  },
  {
   "cell_type": "code",
   "execution_count": 29,
   "id": "01c2a8ae",
   "metadata": {},
   "outputs": [
    {
     "data": {
      "text/plain": [
       "[1, 2, 3, 4, 5]"
      ]
     },
     "execution_count": 29,
     "metadata": {},
     "output_type": "execute_result"
    }
   ],
   "source": [
    "#all numbers in series from index 0 to index 4 (first five indices)\n",
    "#a[inclusive:exclusive]\n",
    "a[:5]"
   ]
  },
  {
   "cell_type": "code",
   "execution_count": 31,
   "id": "ad5af7be",
   "metadata": {},
   "outputs": [
    {
     "data": {
      "text/plain": [
       "1"
      ]
     },
     "execution_count": 31,
     "metadata": {},
     "output_type": "execute_result"
    }
   ],
   "source": [
    "a[0]"
   ]
  },
  {
   "cell_type": "code",
   "execution_count": 32,
   "id": "5083ebd9",
   "metadata": {},
   "outputs": [
    {
     "data": {
      "text/plain": [
       "[1]"
      ]
     },
     "execution_count": 32,
     "metadata": {},
     "output_type": "execute_result"
    }
   ],
   "source": [
    "a[:1]"
   ]
  },
  {
   "cell_type": "code",
   "execution_count": 33,
   "id": "eb8831e5",
   "metadata": {},
   "outputs": [
    {
     "data": {
      "text/plain": [
       "[1, 2]"
      ]
     },
     "execution_count": 33,
     "metadata": {},
     "output_type": "execute_result"
    }
   ],
   "source": [
    "a[:2]"
   ]
  },
  {
   "cell_type": "code",
   "execution_count": 34,
   "id": "bc6da6c0",
   "metadata": {},
   "outputs": [
    {
     "data": {
      "text/plain": [
       "[1, 2, 3]"
      ]
     },
     "execution_count": 34,
     "metadata": {},
     "output_type": "execute_result"
    }
   ],
   "source": [
    "a[:3]"
   ]
  },
  {
   "cell_type": "code",
   "execution_count": 36,
   "id": "17f5cb3d",
   "metadata": {},
   "outputs": [
    {
     "data": {
      "text/plain": [
       "array([[ 14.23, 127.  ],\n",
       "       [ 13.2 , 100.  ],\n",
       "       [ 13.16, 101.  ],\n",
       "       [ 14.37, 113.  ],\n",
       "       [ 13.24, 118.  ],\n",
       "       [ 14.2 , 112.  ],\n",
       "       [ 14.39,  96.  ],\n",
       "       [ 14.06, 121.  ],\n",
       "       [ 14.83,  97.  ],\n",
       "       [ 13.86,  98.  ]])"
      ]
     },
     "execution_count": 36,
     "metadata": {},
     "output_type": "execute_result"
    }
   ],
   "source": [
    "#get first 10 elements, from alcohol and magnesium column\n",
    "#rows:columns\n",
    "\n",
    "wine_data_arr[:10, (0, 4)]"
   ]
  },
  {
   "cell_type": "code",
   "execution_count": 37,
   "id": "0482b5e6",
   "metadata": {},
   "outputs": [
    {
     "data": {
      "text/plain": [
       "array([[ 14.23, 127.  ],\n",
       "       [ 13.16, 101.  ],\n",
       "       [ 13.24, 118.  ],\n",
       "       [ 14.39,  96.  ],\n",
       "       [ 14.83,  97.  ],\n",
       "       [ 14.1 , 105.  ],\n",
       "       [ 13.75,  89.  ],\n",
       "       [ 14.38, 102.  ],\n",
       "       [ 14.3 , 120.  ],\n",
       "       [ 14.19, 108.  ],\n",
       "       [ 14.06, 126.  ],\n",
       "       [ 13.71, 101.  ],\n",
       "       [ 13.5 ,  96.  ],\n",
       "       [ 13.39,  93.  ],\n",
       "       [ 13.87, 107.  ],\n",
       "       [ 13.73, 101.  ],\n",
       "       [ 13.68, 104.  ],\n",
       "       [ 13.51, 110.  ],\n",
       "       [ 13.28, 110.  ],\n",
       "       [ 13.07,  98.  ],\n",
       "       [ 13.56, 117.  ],\n",
       "       [ 13.88, 101.  ],\n",
       "       [ 13.05, 107.  ],\n",
       "       [ 14.38, 102.  ],\n",
       "       [ 14.1 , 103.  ],\n",
       "       [ 13.05,  92.  ],\n",
       "       [ 13.82, 111.  ],\n",
       "       [ 13.74, 118.  ],\n",
       "       [ 14.22, 118.  ],\n",
       "       [ 13.72, 108.  ],\n",
       "       [ 12.33, 101.  ],\n",
       "       [ 13.67,  94.  ],\n",
       "       [ 12.17, 104.  ],\n",
       "       [ 13.11,  78.  ],\n",
       "       [ 13.34, 110.  ],\n",
       "       [ 12.29, 103.  ],\n",
       "       [ 13.49,  87.  ],\n",
       "       [ 11.96, 101.  ],\n",
       "       [ 13.03,  86.  ],\n",
       "       [ 12.33, 136.  ],\n",
       "       [ 12.  ,  86.  ],\n",
       "       [ 12.08,  78.  ],\n",
       "       [ 11.84,  94.  ],\n",
       "       [ 12.16,  90.  ],\n",
       "       [ 11.64,  84.  ],\n",
       "       [ 12.08,  81.  ],\n",
       "       [ 12.69,  80.  ],\n",
       "       [ 11.62,  98.  ],\n",
       "       [ 11.81, 134.  ],\n",
       "       [ 12.37,  88.  ],\n",
       "       [ 12.08,  97.  ],\n",
       "       [ 12.34,  98.  ],\n",
       "       [ 12.51,  85.  ],\n",
       "       [ 12.25,  80.  ],\n",
       "       [ 12.22,  92.  ],\n",
       "       [ 11.46, 107.  ],\n",
       "       [ 11.76, 103.  ],\n",
       "       [ 12.08,  84.  ],\n",
       "       [ 11.82,  86.  ],\n",
       "       [ 12.77,  80.  ],\n",
       "       [ 11.45,  96.  ],\n",
       "       [ 12.42, 102.  ],\n",
       "       [ 11.87,  82.  ],\n",
       "       [ 12.43,  86.  ],\n",
       "       [ 12.37,  88.  ],\n",
       "       [ 12.86, 122.  ],\n",
       "       [ 12.81,  98.  ],\n",
       "       [ 12.51,  85.  ],\n",
       "       [ 12.25,  89.  ],\n",
       "       [ 13.49,  88.  ],\n",
       "       [ 12.93,  96.  ],\n",
       "       [ 13.52,  97.  ],\n",
       "       [ 12.25, 112.  ],\n",
       "       [ 13.88,  80.  ],\n",
       "       [ 13.32,  92.  ],\n",
       "       [ 13.5 , 123.  ],\n",
       "       [ 13.11, 116.  ],\n",
       "       [ 12.58, 103.  ],\n",
       "       [ 13.84,  89.  ],\n",
       "       [ 14.34,  98.  ],\n",
       "       [ 12.36,  88.  ],\n",
       "       [ 12.85, 106.  ],\n",
       "       [ 13.78,  90.  ],\n",
       "       [ 13.45, 111.  ],\n",
       "       [ 13.58, 105.  ],\n",
       "       [ 12.2 ,  96.  ],\n",
       "       [ 14.16,  91.  ],\n",
       "       [ 13.4 , 102.  ],\n",
       "       [ 13.17, 120.  ]])"
      ]
     },
     "execution_count": 37,
     "metadata": {},
     "output_type": "execute_result"
    }
   ],
   "source": [
    "#start:stop:step\n",
    "\n",
    "#all rows :all columns : increments of 2, columns 1 & 4\n",
    "\n",
    "wine_data_arr[::2, (0, 4)]"
   ]
  },
  {
   "cell_type": "code",
   "execution_count": 38,
   "id": "0cb1ac36",
   "metadata": {},
   "outputs": [
    {
     "data": {
      "text/plain": [
       "(89, 2)"
      ]
     },
     "execution_count": 38,
     "metadata": {},
     "output_type": "execute_result"
    }
   ],
   "source": [
    "wine_data_arr[::2, (0, 4)].shape"
   ]
  },
  {
   "cell_type": "code",
   "execution_count": 39,
   "id": "861c12d1",
   "metadata": {},
   "outputs": [
    {
     "data": {
      "text/plain": [
       "array([1, 2, 3])"
      ]
     },
     "execution_count": 39,
     "metadata": {},
     "output_type": "execute_result"
    }
   ],
   "source": [
    "arr"
   ]
  },
  {
   "cell_type": "code",
   "execution_count": 40,
   "id": "4bd39c2e",
   "metadata": {},
   "outputs": [
    {
     "data": {
      "text/plain": [
       "array([2, 3, 4])"
      ]
     },
     "execution_count": 40,
     "metadata": {},
     "output_type": "execute_result"
    }
   ],
   "source": [
    "arr + 1"
   ]
  },
  {
   "cell_type": "code",
   "execution_count": 41,
   "id": "b960061f",
   "metadata": {},
   "outputs": [
    {
     "data": {
      "text/plain": [
       "array([10, 20, 30])"
      ]
     },
     "execution_count": 41,
     "metadata": {},
     "output_type": "execute_result"
    }
   ],
   "source": [
    "arr * 10"
   ]
  },
  {
   "cell_type": "code",
   "execution_count": 42,
   "id": "cc0b0642",
   "metadata": {},
   "outputs": [
    {
     "data": {
      "text/plain": [
       "array([0.1, 0.2, 0.3])"
      ]
     },
     "execution_count": 42,
     "metadata": {},
     "output_type": "execute_result"
    }
   ],
   "source": [
    "arr / 10"
   ]
  },
  {
   "cell_type": "code",
   "execution_count": 43,
   "id": "0ab988dd",
   "metadata": {},
   "outputs": [
    {
     "data": {
      "text/plain": [
       "array([1, 4, 9])"
      ]
     },
     "execution_count": 43,
     "metadata": {},
     "output_type": "execute_result"
    }
   ],
   "source": [
    "arr ** 2"
   ]
  },
  {
   "cell_type": "code",
   "execution_count": 46,
   "id": "2f653bc7",
   "metadata": {},
   "outputs": [],
   "source": [
    "arr = np.array([1, 2, 3])"
   ]
  },
  {
   "cell_type": "code",
   "execution_count": 47,
   "id": "9b49d43c",
   "metadata": {},
   "outputs": [
    {
     "data": {
      "text/plain": [
       "array([    1,  1024, 59049])"
      ]
     },
     "execution_count": 47,
     "metadata": {},
     "output_type": "execute_result"
    }
   ],
   "source": [
    "arr ** 10"
   ]
  },
  {
   "cell_type": "code",
   "execution_count": 48,
   "id": "ce7c4397",
   "metadata": {},
   "outputs": [],
   "source": [
    "#assign all columns of index 0, alcohol, to variable\n",
    "alcohol = wine_data_arr[:, 0]"
   ]
  },
  {
   "cell_type": "code",
   "execution_count": 49,
   "id": "b33f8e0b",
   "metadata": {},
   "outputs": [
    {
     "data": {
      "text/plain": [
       "array([14.23, 13.2 , 13.16, 14.37, 13.24, 14.2 , 14.39, 14.06, 14.83,\n",
       "       13.86, 14.1 , 14.12, 13.75, 14.75, 14.38, 13.63, 14.3 , 13.83,\n",
       "       14.19, 13.64, 14.06, 12.93, 13.71, 12.85, 13.5 , 13.05, 13.39,\n",
       "       13.3 , 13.87, 14.02, 13.73, 13.58, 13.68, 13.76, 13.51, 13.48,\n",
       "       13.28, 13.05, 13.07, 14.22, 13.56, 13.41, 13.88, 13.24, 13.05,\n",
       "       14.21, 14.38, 13.9 , 14.1 , 13.94, 13.05, 13.83, 13.82, 13.77,\n",
       "       13.74, 13.56, 14.22, 13.29, 13.72, 12.37, 12.33, 12.64, 13.67,\n",
       "       12.37, 12.17, 12.37, 13.11, 12.37, 13.34, 12.21, 12.29, 13.86,\n",
       "       13.49, 12.99, 11.96, 11.66, 13.03, 11.84, 12.33, 12.7 , 12.  ,\n",
       "       12.72, 12.08, 13.05, 11.84, 12.67, 12.16, 11.65, 11.64, 12.08,\n",
       "       12.08, 12.  , 12.69, 12.29, 11.62, 12.47, 11.81, 12.29, 12.37,\n",
       "       12.29, 12.08, 12.6 , 12.34, 11.82, 12.51, 12.42, 12.25, 12.72,\n",
       "       12.22, 11.61, 11.46, 12.52, 11.76, 11.41, 12.08, 11.03, 11.82,\n",
       "       12.42, 12.77, 12.  , 11.45, 11.56, 12.42, 13.05, 11.87, 12.07,\n",
       "       12.43, 11.79, 12.37, 12.04, 12.86, 12.88, 12.81, 12.7 , 12.51,\n",
       "       12.6 , 12.25, 12.53, 13.49, 12.84, 12.93, 13.36, 13.52, 13.62,\n",
       "       12.25, 13.16, 13.88, 12.87, 13.32, 13.08, 13.5 , 12.79, 13.11,\n",
       "       13.23, 12.58, 13.17, 13.84, 12.45, 14.34, 13.48, 12.36, 13.69,\n",
       "       12.85, 12.96, 13.78, 13.73, 13.45, 12.82, 13.58, 13.4 , 12.2 ,\n",
       "       12.77, 14.16, 13.71, 13.4 , 13.27, 13.17, 14.13])"
      ]
     },
     "execution_count": 49,
     "metadata": {},
     "output_type": "execute_result"
    }
   ],
   "source": [
    "alcohol"
   ]
  },
  {
   "cell_type": "code",
   "execution_count": 50,
   "id": "bc40338c",
   "metadata": {},
   "outputs": [
    {
     "data": {
      "text/plain": [
       "(178,)"
      ]
     },
     "execution_count": 50,
     "metadata": {},
     "output_type": "execute_result"
    }
   ],
   "source": [
    "#get shape, a series of 178 elements\n",
    "alcohol.shape"
   ]
  },
  {
   "cell_type": "code",
   "execution_count": 51,
   "id": "8abd3c50",
   "metadata": {},
   "outputs": [
    {
     "data": {
      "text/plain": [
       "13.00061797752809"
      ]
     },
     "execution_count": 51,
     "metadata": {},
     "output_type": "execute_result"
    }
   ],
   "source": [
    "#aggregation: get mean\n",
    "np.mean(alcohol)"
   ]
  },
  {
   "cell_type": "code",
   "execution_count": 52,
   "id": "3e9818bf",
   "metadata": {},
   "outputs": [
    {
     "data": {
      "text/plain": [
       "11.03"
      ]
     },
     "execution_count": 52,
     "metadata": {},
     "output_type": "execute_result"
    }
   ],
   "source": [
    "#aggregation: get min\n",
    "np.min(alcohol)"
   ]
  },
  {
   "cell_type": "code",
   "execution_count": 53,
   "id": "f09f9dbd",
   "metadata": {},
   "outputs": [
    {
     "data": {
      "text/plain": [
       "14.83"
      ]
     },
     "execution_count": 53,
     "metadata": {},
     "output_type": "execute_result"
    }
   ],
   "source": [
    "#aggregation: get max\n",
    "np.max(alcohol)"
   ]
  },
  {
   "cell_type": "code",
   "execution_count": 54,
   "id": "e56652e6",
   "metadata": {},
   "outputs": [
    {
     "data": {
      "text/plain": [
       "0.8095429145285168"
      ]
     },
     "execution_count": 54,
     "metadata": {},
     "output_type": "execute_result"
    }
   ],
   "source": [
    "#aggregation: get standard deviation\n",
    "np.std(alcohol)"
   ]
  },
  {
   "cell_type": "code",
   "execution_count": 55,
   "id": "1e892cd3",
   "metadata": {},
   "outputs": [
    {
     "data": {
      "text/plain": [
       "array([1, 4, 9])"
      ]
     },
     "execution_count": 55,
     "metadata": {},
     "output_type": "execute_result"
    }
   ],
   "source": [
    "#element-wise squaring\n",
    "np.square(arr)"
   ]
  },
  {
   "cell_type": "code",
   "execution_count": 56,
   "id": "9cc01bb7",
   "metadata": {},
   "outputs": [
    {
     "data": {
      "text/plain": [
       "array([14.23, 13.2 , 13.16, 14.37, 13.24, 14.2 , 14.39, 14.06, 14.83,\n",
       "       13.86, 14.1 , 14.12, 13.75, 14.75, 14.38, 13.63, 14.3 , 13.83,\n",
       "       14.19, 13.64, 14.06, 12.93, 13.71, 12.85, 13.5 , 13.05, 13.39,\n",
       "       13.3 , 13.87, 14.02, 13.73, 13.58, 13.68, 13.76, 13.51, 13.48,\n",
       "       13.28, 13.05, 13.07, 14.22, 13.56, 13.41, 13.88, 13.24, 13.05,\n",
       "       14.21, 14.38, 13.9 , 14.1 , 13.94, 13.05, 13.83, 13.82, 13.77,\n",
       "       13.74, 13.56, 14.22, 13.29, 13.72, 12.37, 12.33, 12.64, 13.67,\n",
       "       12.37, 12.17, 12.37, 13.11, 12.37, 13.34, 12.21, 12.29, 13.86,\n",
       "       13.49, 12.99, 11.96, 11.66, 13.03, 11.84, 12.33, 12.7 , 12.  ,\n",
       "       12.72, 12.08, 13.05, 11.84, 12.67, 12.16, 11.65, 11.64, 12.08,\n",
       "       12.08, 12.  , 12.69, 12.29, 11.62, 12.47, 11.81, 12.29, 12.37,\n",
       "       12.29, 12.08, 12.6 , 12.34, 11.82, 12.51, 12.42, 12.25, 12.72,\n",
       "       12.22, 11.61, 11.46, 12.52, 11.76, 11.41, 12.08, 11.03, 11.82,\n",
       "       12.42, 12.77, 12.  , 11.45, 11.56, 12.42, 13.05, 11.87, 12.07,\n",
       "       12.43, 11.79, 12.37, 12.04, 12.86, 12.88, 12.81, 12.7 , 12.51,\n",
       "       12.6 , 12.25, 12.53, 13.49, 12.84, 12.93, 13.36, 13.52, 13.62,\n",
       "       12.25, 13.16, 13.88, 12.87, 13.32, 13.08, 13.5 , 12.79, 13.11,\n",
       "       13.23, 12.58, 13.17, 13.84, 12.45, 14.34, 13.48, 12.36, 13.69,\n",
       "       12.85, 12.96, 13.78, 13.73, 13.45, 12.82, 13.58, 13.4 , 12.2 ,\n",
       "       12.77, 14.16, 13.71, 13.4 , 13.27, 13.17, 14.13])"
      ]
     },
     "execution_count": 56,
     "metadata": {},
     "output_type": "execute_result"
    }
   ],
   "source": [
    "alcohol"
   ]
  },
  {
   "cell_type": "code",
   "execution_count": 59,
   "id": "1c64e511",
   "metadata": {},
   "outputs": [
    {
     "data": {
      "text/plain": [
       "array([False, False, False, False, False, False, False, False, False,\n",
       "       False, False, False, False, False, False, False, False, False,\n",
       "       False, False, False,  True, False,  True, False, False, False,\n",
       "       False, False, False, False, False, False, False, False, False,\n",
       "       False, False, False, False, False, False, False, False, False,\n",
       "       False, False, False, False, False, False, False, False, False,\n",
       "       False, False, False, False, False,  True,  True,  True, False,\n",
       "        True,  True,  True, False,  True, False,  True,  True, False,\n",
       "       False,  True,  True,  True, False,  True,  True,  True,  True,\n",
       "        True,  True, False,  True,  True,  True,  True,  True,  True,\n",
       "        True,  True,  True,  True,  True,  True,  True,  True,  True,\n",
       "        True,  True,  True,  True,  True,  True,  True,  True,  True,\n",
       "        True,  True,  True,  True,  True,  True,  True,  True,  True,\n",
       "        True,  True,  True,  True,  True,  True, False,  True,  True,\n",
       "        True,  True,  True,  True,  True,  True,  True,  True,  True,\n",
       "        True,  True,  True, False,  True,  True, False, False, False,\n",
       "        True, False, False,  True, False, False, False,  True, False,\n",
       "       False,  True, False, False,  True, False, False,  True, False,\n",
       "        True,  True, False, False, False,  True, False, False,  True,\n",
       "        True, False, False, False, False, False, False])"
      ]
     },
     "execution_count": 59,
     "metadata": {},
     "output_type": "execute_result"
    }
   ],
   "source": [
    "alcohol < 13"
   ]
  },
  {
   "cell_type": "code",
   "execution_count": 58,
   "id": "d0d75471",
   "metadata": {},
   "outputs": [],
   "source": [
    "#filter where alcohol content under 13%\n",
    "\n",
    "#boolean mask\n",
    "alcohol_under_13_boolean_mask = alcohol < 13"
   ]
  },
  {
   "cell_type": "code",
   "execution_count": 62,
   "id": "9cec6074",
   "metadata": {},
   "outputs": [
    {
     "data": {
      "text/plain": [
       "array([[1.293e+01, 3.800e+00, 2.650e+00, ..., 1.030e+00, 3.520e+00,\n",
       "        7.700e+02],\n",
       "       [1.285e+01, 1.600e+00, 2.520e+00, ..., 1.090e+00, 3.630e+00,\n",
       "        1.015e+03],\n",
       "       [1.237e+01, 9.400e-01, 1.360e+00, ..., 1.050e+00, 1.820e+00,\n",
       "        5.200e+02],\n",
       "       ...,\n",
       "       [1.282e+01, 3.370e+00, 2.300e+00, ..., 7.200e-01, 1.750e+00,\n",
       "        6.850e+02],\n",
       "       [1.220e+01, 3.030e+00, 2.320e+00, ..., 6.600e-01, 1.830e+00,\n",
       "        5.100e+02],\n",
       "       [1.277e+01, 2.390e+00, 2.280e+00, ..., 5.700e-01, 1.630e+00,\n",
       "        4.700e+02]])"
      ]
     },
     "execution_count": 62,
     "metadata": {},
     "output_type": "execute_result"
    }
   ],
   "source": [
    "#pass mask back into orginal data\n",
    "\n",
    "wine_data_arr[alcohol_under_13_boolean_mask]"
   ]
  },
  {
   "cell_type": "code",
   "execution_count": 63,
   "id": "bb634303",
   "metadata": {},
   "outputs": [
    {
     "data": {
      "text/plain": [
       "(86, 13)"
      ]
     },
     "execution_count": 63,
     "metadata": {},
     "output_type": "execute_result"
    }
   ],
   "source": [
    "wine_data_arr[alcohol_under_13_boolean_mask].shape"
   ]
  },
  {
   "cell_type": "code",
   "execution_count": 64,
   "id": "6c670c9c",
   "metadata": {},
   "outputs": [],
   "source": [
    "#get magnesium data [all rows: column 4] and assign to variable\n",
    "\n",
    "magnesium = wine_data_arr[:, 4]"
   ]
  },
  {
   "cell_type": "code",
   "execution_count": 65,
   "id": "9932a2f7",
   "metadata": {},
   "outputs": [
    {
     "data": {
      "text/plain": [
       "array([127., 100., 101., 113., 118., 112.,  96., 121.,  97.,  98., 105.,\n",
       "        95.,  89.,  91., 102., 112., 120., 115., 108., 116., 126., 102.,\n",
       "       101.,  95.,  96., 124.,  93.,  94., 107.,  96., 101., 106., 104.,\n",
       "       132., 110., 100., 110.,  98.,  98., 128., 117.,  90., 101., 103.,\n",
       "       107., 111., 102., 101., 103., 108.,  92.,  94., 111., 115., 118.,\n",
       "       116., 118., 102., 108.,  88., 101., 100.,  94.,  87., 104.,  98.,\n",
       "        78.,  78., 110., 151., 103.,  86.,  87., 139., 101.,  97.,  86.,\n",
       "       112., 136., 101.,  86.,  86.,  78.,  85.,  94.,  99.,  90.,  88.,\n",
       "        84.,  70.,  81.,  86.,  80.,  88.,  98., 162., 134.,  85.,  88.,\n",
       "        88.,  97.,  88.,  98.,  86.,  85.,  90.,  80.,  84.,  92.,  94.,\n",
       "       107.,  88., 103.,  88.,  84.,  85.,  86., 108.,  80.,  87.,  96.,\n",
       "       119., 102.,  86.,  82.,  85.,  86.,  92.,  88.,  80., 122., 104.,\n",
       "        98., 106.,  85.,  94.,  89.,  96.,  88., 101.,  96.,  89.,  97.,\n",
       "        92., 112., 102.,  80.,  86.,  92., 113., 123., 112., 116.,  98.,\n",
       "       103.,  93.,  89.,  97.,  98.,  89.,  88., 107., 106., 106.,  90.,\n",
       "        88., 111.,  88., 105., 112.,  96.,  86.,  91.,  95., 102., 120.,\n",
       "       120.,  96.])"
      ]
     },
     "execution_count": 65,
     "metadata": {},
     "output_type": "execute_result"
    }
   ],
   "source": [
    "magnesium"
   ]
  },
  {
   "cell_type": "code",
   "execution_count": 68,
   "id": "5eb4b589",
   "metadata": {},
   "outputs": [],
   "source": [
    "#create boolean mask to get magnesium over 120\n",
    "\n",
    "magnesium_over_120_bool_mask = magnesium > 120"
   ]
  },
  {
   "cell_type": "code",
   "execution_count": 69,
   "id": "6085500a",
   "metadata": {},
   "outputs": [
    {
     "data": {
      "text/plain": [
       "array([ True, False, False, False, False, False, False,  True, False,\n",
       "       False, False, False, False, False, False, False, False, False,\n",
       "       False, False,  True, False, False, False, False,  True, False,\n",
       "       False, False, False, False, False, False,  True, False, False,\n",
       "       False, False, False,  True, False, False, False, False, False,\n",
       "       False, False, False, False, False, False, False, False, False,\n",
       "       False, False, False, False, False, False, False, False, False,\n",
       "       False, False, False, False, False, False,  True, False, False,\n",
       "       False,  True, False, False, False, False,  True, False, False,\n",
       "       False, False, False, False, False, False, False, False, False,\n",
       "       False, False, False, False, False,  True,  True, False, False,\n",
       "       False, False, False, False, False, False, False, False, False,\n",
       "       False, False, False, False, False, False, False, False, False,\n",
       "       False, False, False, False, False, False, False, False, False,\n",
       "       False, False, False, False,  True, False, False, False, False,\n",
       "       False, False, False, False, False, False, False, False, False,\n",
       "       False, False, False, False, False, False,  True, False, False,\n",
       "       False, False, False, False, False, False, False, False, False,\n",
       "       False, False, False, False, False, False, False, False, False,\n",
       "       False, False, False, False, False, False, False])"
      ]
     },
     "execution_count": 69,
     "metadata": {},
     "output_type": "execute_result"
    }
   ],
   "source": [
    "magnesium_over_120_bool_mask"
   ]
  },
  {
   "cell_type": "code",
   "execution_count": 70,
   "id": "341e3f77",
   "metadata": {},
   "outputs": [
    {
     "data": {
      "text/plain": [
       "array([False, False, False, False, False, False, False, False, False,\n",
       "       False, False, False, False, False, False, False, False, False,\n",
       "       False, False, False, False, False, False, False, False, False,\n",
       "       False, False, False, False, False, False, False, False, False,\n",
       "       False, False, False, False, False, False, False, False, False,\n",
       "       False, False, False, False, False, False, False, False, False,\n",
       "       False, False, False, False, False, False, False, False, False,\n",
       "       False, False, False, False, False, False,  True, False, False,\n",
       "       False,  True, False, False, False, False,  True, False, False,\n",
       "       False, False, False, False, False, False, False, False, False,\n",
       "       False, False, False, False, False,  True,  True, False, False,\n",
       "       False, False, False, False, False, False, False, False, False,\n",
       "       False, False, False, False, False, False, False, False, False,\n",
       "       False, False, False, False, False, False, False, False, False,\n",
       "       False, False, False, False,  True, False, False, False, False,\n",
       "       False, False, False, False, False, False, False, False, False,\n",
       "       False, False, False, False, False, False, False, False, False,\n",
       "       False, False, False, False, False, False, False, False, False,\n",
       "       False, False, False, False, False, False, False, False, False,\n",
       "       False, False, False, False, False, False, False])"
      ]
     },
     "execution_count": 70,
     "metadata": {},
     "output_type": "execute_result"
    }
   ],
   "source": [
    "alcohol_under_13_boolean_mask & magnesium_over_120_bool_mask"
   ]
  },
  {
   "cell_type": "code",
   "execution_count": 71,
   "id": "8954619b",
   "metadata": {},
   "outputs": [],
   "source": [
    "#create combined boolean mask\n",
    "combined_mask = alcohol_under_13_boolean_mask & magnesium_over_120_bool_mask"
   ]
  },
  {
   "cell_type": "code",
   "execution_count": 73,
   "id": "ab6e3ff7",
   "metadata": {},
   "outputs": [
    {
     "data": {
      "text/plain": [
       "array([[ 12.21, 151.  ],\n",
       "       [ 12.99, 139.  ],\n",
       "       [ 12.33, 136.  ],\n",
       "       [ 12.47, 162.  ],\n",
       "       [ 11.81, 134.  ],\n",
       "       [ 12.86, 122.  ]])"
      ]
     },
     "execution_count": 73,
     "metadata": {},
     "output_type": "execute_result"
    }
   ],
   "source": [
    "#use combined mask on original array and get all of the rows and only the two columns of interest\n",
    "wine_data_arr[combined_mask][:, (0, 4)]"
   ]
  },
  {
   "cell_type": "code",
   "execution_count": 74,
   "id": "9820194d",
   "metadata": {},
   "outputs": [
    {
     "data": {
      "text/plain": [
       "(6, 13)"
      ]
     },
     "execution_count": 74,
     "metadata": {},
     "output_type": "execute_result"
    }
   ],
   "source": [
    "wine_data_arr[combined_mask].shape"
   ]
  },
  {
   "cell_type": "code",
   "execution_count": 75,
   "id": "2d4b8012",
   "metadata": {},
   "outputs": [
    {
     "data": {
      "text/plain": [
       "(6, 2)"
      ]
     },
     "execution_count": 75,
     "metadata": {},
     "output_type": "execute_result"
    }
   ],
   "source": [
    "wine_data_arr[combined_mask][:, (0, 4)].shape"
   ]
  },
  {
   "cell_type": "code",
   "execution_count": 76,
   "id": "aaa0bf0e",
   "metadata": {},
   "outputs": [
    {
     "data": {
      "text/plain": [
       "array([[1.221e+01, 1.190e+00, 1.750e+00, 1.680e+01, 1.510e+02, 1.850e+00,\n",
       "        1.280e+00, 1.400e-01, 2.500e+00, 2.850e+00, 1.280e+00, 3.070e+00,\n",
       "        7.180e+02],\n",
       "       [1.299e+01, 1.670e+00, 2.600e+00, 3.000e+01, 1.390e+02, 3.300e+00,\n",
       "        2.890e+00, 2.100e-01, 1.960e+00, 3.350e+00, 1.310e+00, 3.500e+00,\n",
       "        9.850e+02],\n",
       "       [1.233e+01, 9.900e-01, 1.950e+00, 1.480e+01, 1.360e+02, 1.900e+00,\n",
       "        1.850e+00, 3.500e-01, 2.760e+00, 3.400e+00, 1.060e+00, 2.310e+00,\n",
       "        7.500e+02],\n",
       "       [1.247e+01, 1.520e+00, 2.200e+00, 1.900e+01, 1.620e+02, 2.500e+00,\n",
       "        2.270e+00, 3.200e-01, 3.280e+00, 2.600e+00, 1.160e+00, 2.630e+00,\n",
       "        9.370e+02],\n",
       "       [1.181e+01, 2.120e+00, 2.740e+00, 2.150e+01, 1.340e+02, 1.600e+00,\n",
       "        9.900e-01, 1.400e-01, 1.560e+00, 2.500e+00, 9.500e-01, 2.260e+00,\n",
       "        6.250e+02],\n",
       "       [1.286e+01, 1.350e+00, 2.320e+00, 1.800e+01, 1.220e+02, 1.510e+00,\n",
       "        1.250e+00, 2.100e-01, 9.400e-01, 4.100e+00, 7.600e-01, 1.290e+00,\n",
       "        6.300e+02]])"
      ]
     },
     "execution_count": 76,
     "metadata": {},
     "output_type": "execute_result"
    }
   ],
   "source": [
    "#conditions/mask don't need to be assigned to variable\n",
    "\n",
    "wine_data_arr[\n",
    "    \n",
    "    (alcohol < 13)\n",
    "    & (magnesium > 120)\n",
    "    \n",
    "]"
   ]
  },
  {
   "cell_type": "code",
   "execution_count": 77,
   "id": "6a303baa",
   "metadata": {},
   "outputs": [
    {
     "data": {
      "text/plain": [
       "array([[ 12.21, 151.  ],\n",
       "       [ 12.99, 139.  ],\n",
       "       [ 12.33, 136.  ],\n",
       "       [ 12.47, 162.  ],\n",
       "       [ 11.81, 134.  ],\n",
       "       [ 12.86, 122.  ]])"
      ]
     },
     "execution_count": 77,
     "metadata": {},
     "output_type": "execute_result"
    }
   ],
   "source": [
    "#conditions/mask don't need to be assigned to variable, all rows: col 0, col 4\n",
    "\n",
    "wine_data_arr[\n",
    "    \n",
    "    (alcohol < 13)\n",
    "    & (magnesium > 120)\n",
    "    \n",
    "][:, (0,4)]"
   ]
  },
  {
   "cell_type": "code",
   "execution_count": 78,
   "id": "17d3bc62",
   "metadata": {},
   "outputs": [
    {
     "data": {
      "text/plain": [
       "array(['other', 'other', 'other', 'other', 'other', 'other', 'other',\n",
       "       'other', 'other', 'other', 'other', 'other', 'other', 'other',\n",
       "       'other', 'other', 'other', 'other', 'other', 'other', 'other',\n",
       "       'other', 'other', 'other', 'other', 'other', 'other', 'other',\n",
       "       'other', 'other', 'other', 'other', 'other', 'other', 'other',\n",
       "       'other', 'other', 'other', 'other', 'other', 'other', 'other',\n",
       "       'other', 'other', 'other', 'other', 'other', 'other', 'other',\n",
       "       'other', 'other', 'other', 'other', 'other', 'other', 'other',\n",
       "       'other', 'other', 'other', 'other', 'other', 'other', 'other',\n",
       "       'other', 'other', 'other', 'other', 'other', 'other', 'other',\n",
       "       'other', 'other', 'other', 'other', 'low alcohol', 'low alcohol',\n",
       "       'other', 'low alcohol', 'other', 'other', 'other', 'other',\n",
       "       'other', 'other', 'low alcohol', 'other', 'other', 'low alcohol',\n",
       "       'low alcohol', 'other', 'other', 'other', 'other', 'other',\n",
       "       'low alcohol', 'other', 'low alcohol', 'other', 'other', 'other',\n",
       "       'other', 'other', 'other', 'low alcohol', 'other', 'other',\n",
       "       'other', 'other', 'other', 'low alcohol', 'low alcohol', 'other',\n",
       "       'low alcohol', 'low alcohol', 'other', 'low alcohol',\n",
       "       'low alcohol', 'other', 'other', 'other', 'low alcohol',\n",
       "       'low alcohol', 'other', 'other', 'low alcohol', 'other', 'other',\n",
       "       'low alcohol', 'other', 'other', 'other', 'other', 'other',\n",
       "       'other', 'other', 'other', 'other', 'other', 'other', 'other',\n",
       "       'other', 'other', 'other', 'other', 'other', 'other', 'other',\n",
       "       'other', 'other', 'other', 'other', 'other', 'other', 'other',\n",
       "       'other', 'other', 'other', 'other', 'other', 'other', 'other',\n",
       "       'other', 'other', 'other', 'other', 'other', 'other', 'other',\n",
       "       'other', 'other', 'other', 'other', 'other', 'other', 'other',\n",
       "       'other', 'other', 'other'], dtype='<U11')"
      ]
     },
     "execution_count": 78,
     "metadata": {},
     "output_type": "execute_result"
    }
   ],
   "source": [
    "#set where condition where alcohol content less than 12 is replaced with \"low alchol\" \n",
    "#and everything else is \"other\"\n",
    "\n",
    "np.where(alcohol < 12, \"low alcohol\", \"other\")"
   ]
  },
  {
   "cell_type": "code",
   "execution_count": 80,
   "id": "f514bf7a",
   "metadata": {},
   "outputs": [
    {
     "data": {
      "text/plain": [
       "array(['high alcohol', 'moderate alcohol', 'moderate alcohol',\n",
       "       'high alcohol', 'moderate alcohol', 'high alcohol', 'high alcohol',\n",
       "       'high alcohol', 'high alcohol', 'moderate alcohol', 'high alcohol',\n",
       "       'high alcohol', 'moderate alcohol', 'high alcohol', 'high alcohol',\n",
       "       'moderate alcohol', 'high alcohol', 'moderate alcohol',\n",
       "       'high alcohol', 'moderate alcohol', 'high alcohol',\n",
       "       'moderate alcohol', 'moderate alcohol', 'moderate alcohol',\n",
       "       'moderate alcohol', 'moderate alcohol', 'moderate alcohol',\n",
       "       'moderate alcohol', 'moderate alcohol', 'high alcohol',\n",
       "       'moderate alcohol', 'moderate alcohol', 'moderate alcohol',\n",
       "       'moderate alcohol', 'moderate alcohol', 'moderate alcohol',\n",
       "       'moderate alcohol', 'moderate alcohol', 'moderate alcohol',\n",
       "       'high alcohol', 'moderate alcohol', 'moderate alcohol',\n",
       "       'moderate alcohol', 'moderate alcohol', 'moderate alcohol',\n",
       "       'high alcohol', 'high alcohol', 'moderate alcohol', 'high alcohol',\n",
       "       'moderate alcohol', 'moderate alcohol', 'moderate alcohol',\n",
       "       'moderate alcohol', 'moderate alcohol', 'moderate alcohol',\n",
       "       'moderate alcohol', 'high alcohol', 'moderate alcohol',\n",
       "       'moderate alcohol', 'moderate alcohol', 'moderate alcohol',\n",
       "       'moderate alcohol', 'moderate alcohol', 'moderate alcohol',\n",
       "       'moderate alcohol', 'moderate alcohol', 'moderate alcohol',\n",
       "       'moderate alcohol', 'moderate alcohol', 'moderate alcohol',\n",
       "       'moderate alcohol', 'moderate alcohol', 'moderate alcohol',\n",
       "       'moderate alcohol', 'low alcohol', 'low alcohol',\n",
       "       'moderate alcohol', 'low alcohol', 'moderate alcohol',\n",
       "       'moderate alcohol', 'moderate alcohol', 'moderate alcohol',\n",
       "       'moderate alcohol', 'moderate alcohol', 'low alcohol',\n",
       "       'moderate alcohol', 'moderate alcohol', 'low alcohol',\n",
       "       'low alcohol', 'moderate alcohol', 'moderate alcohol',\n",
       "       'moderate alcohol', 'moderate alcohol', 'moderate alcohol',\n",
       "       'low alcohol', 'moderate alcohol', 'low alcohol',\n",
       "       'moderate alcohol', 'moderate alcohol', 'moderate alcohol',\n",
       "       'moderate alcohol', 'moderate alcohol', 'moderate alcohol',\n",
       "       'low alcohol', 'moderate alcohol', 'moderate alcohol',\n",
       "       'moderate alcohol', 'moderate alcohol', 'moderate alcohol',\n",
       "       'low alcohol', 'low alcohol', 'moderate alcohol', 'low alcohol',\n",
       "       'low alcohol', 'moderate alcohol', 'low alcohol', 'low alcohol',\n",
       "       'moderate alcohol', 'moderate alcohol', 'moderate alcohol',\n",
       "       'low alcohol', 'low alcohol', 'moderate alcohol',\n",
       "       'moderate alcohol', 'low alcohol', 'moderate alcohol',\n",
       "       'moderate alcohol', 'low alcohol', 'moderate alcohol',\n",
       "       'moderate alcohol', 'moderate alcohol', 'moderate alcohol',\n",
       "       'moderate alcohol', 'moderate alcohol', 'moderate alcohol',\n",
       "       'moderate alcohol', 'moderate alcohol', 'moderate alcohol',\n",
       "       'moderate alcohol', 'moderate alcohol', 'moderate alcohol',\n",
       "       'moderate alcohol', 'moderate alcohol', 'moderate alcohol',\n",
       "       'moderate alcohol', 'moderate alcohol', 'moderate alcohol',\n",
       "       'moderate alcohol', 'moderate alcohol', 'moderate alcohol',\n",
       "       'moderate alcohol', 'moderate alcohol', 'moderate alcohol',\n",
       "       'moderate alcohol', 'moderate alcohol', 'moderate alcohol',\n",
       "       'moderate alcohol', 'moderate alcohol', 'high alcohol',\n",
       "       'moderate alcohol', 'moderate alcohol', 'moderate alcohol',\n",
       "       'moderate alcohol', 'moderate alcohol', 'moderate alcohol',\n",
       "       'moderate alcohol', 'moderate alcohol', 'moderate alcohol',\n",
       "       'moderate alcohol', 'moderate alcohol', 'moderate alcohol',\n",
       "       'moderate alcohol', 'high alcohol', 'moderate alcohol',\n",
       "       'moderate alcohol', 'moderate alcohol', 'moderate alcohol',\n",
       "       'high alcohol'], dtype='<U16')"
      ]
     },
     "execution_count": 80,
     "metadata": {},
     "output_type": "execute_result"
    }
   ],
   "source": [
    "# get low, med, high alc content using np.where\n",
    "\n",
    "np.where(\n",
    "    alcohol < 12, \n",
    "    \"low alcohol\",\n",
    "    np.where(alcohol > 14,\n",
    "            \"high alcohol\", \n",
    "            \"moderate alcohol\"\n",
    "            )\n",
    "\n",
    ")"
   ]
  },
  {
   "cell_type": "code",
   "execution_count": 82,
   "id": "b6a5a512",
   "metadata": {},
   "outputs": [
    {
     "data": {
      "text/plain": [
       "array([11.03, 11.41, 11.45, 11.46, 11.56, 11.61, 11.62, 11.64, 11.65,\n",
       "       11.66, 11.76, 11.79, 11.81, 11.82, 11.82, 11.84, 11.84, 11.87,\n",
       "       11.96, 12.  , 12.  , 12.  , 12.04, 12.07, 12.08, 12.08, 12.08,\n",
       "       12.08, 12.08, 12.16, 12.17, 12.2 , 12.21, 12.22, 12.25, 12.25,\n",
       "       12.25, 12.29, 12.29, 12.29, 12.29, 12.33, 12.33, 12.34, 12.36,\n",
       "       12.37, 12.37, 12.37, 12.37, 12.37, 12.37, 12.42, 12.42, 12.42,\n",
       "       12.43, 12.45, 12.47, 12.51, 12.51, 12.52, 12.53, 12.58, 12.6 ,\n",
       "       12.6 , 12.64, 12.67, 12.69, 12.7 , 12.7 , 12.72, 12.72, 12.77,\n",
       "       12.77, 12.79, 12.81, 12.82, 12.84, 12.85, 12.85, 12.86, 12.87,\n",
       "       12.88, 12.93, 12.93, 12.96, 12.99, 13.03, 13.05, 13.05, 13.05,\n",
       "       13.05, 13.05, 13.05, 13.07, 13.08, 13.11, 13.11, 13.16, 13.16,\n",
       "       13.17, 13.17, 13.2 , 13.23, 13.24, 13.24, 13.27, 13.28, 13.29,\n",
       "       13.3 , 13.32, 13.34, 13.36, 13.39, 13.4 , 13.4 , 13.41, 13.45,\n",
       "       13.48, 13.48, 13.49, 13.49, 13.5 , 13.5 , 13.51, 13.52, 13.56,\n",
       "       13.56, 13.58, 13.58, 13.62, 13.63, 13.64, 13.67, 13.68, 13.69,\n",
       "       13.71, 13.71, 13.72, 13.73, 13.73, 13.74, 13.75, 13.76, 13.77,\n",
       "       13.78, 13.82, 13.83, 13.83, 13.84, 13.86, 13.86, 13.87, 13.88,\n",
       "       13.88, 13.9 , 13.94, 14.02, 14.06, 14.06, 14.1 , 14.1 , 14.12,\n",
       "       14.13, 14.16, 14.19, 14.2 , 14.21, 14.22, 14.22, 14.23, 14.3 ,\n",
       "       14.34, 14.37, 14.38, 14.38, 14.39, 14.75, 14.83])"
      ]
     },
     "execution_count": 82,
     "metadata": {},
     "output_type": "execute_result"
    }
   ],
   "source": [
    "np.sort(alcohol)"
   ]
  },
  {
   "cell_type": "code",
   "execution_count": 84,
   "id": "0d9344f0",
   "metadata": {},
   "outputs": [
    {
     "data": {
      "text/plain": [
       "array([14.83, 14.75, 14.39, 14.38, 14.38, 14.37, 14.34, 14.3 , 14.23,\n",
       "       14.22, 14.22, 14.21, 14.2 , 14.19, 14.16, 14.13, 14.12, 14.1 ,\n",
       "       14.1 , 14.06, 14.06, 14.02, 13.94, 13.9 , 13.88, 13.88, 13.87,\n",
       "       13.86, 13.86, 13.84, 13.83, 13.83, 13.82, 13.78, 13.77, 13.76,\n",
       "       13.75, 13.74, 13.73, 13.73, 13.72, 13.71, 13.71, 13.69, 13.68,\n",
       "       13.67, 13.64, 13.63, 13.62, 13.58, 13.58, 13.56, 13.56, 13.52,\n",
       "       13.51, 13.5 , 13.5 , 13.49, 13.49, 13.48, 13.48, 13.45, 13.41,\n",
       "       13.4 , 13.4 , 13.39, 13.36, 13.34, 13.32, 13.3 , 13.29, 13.28,\n",
       "       13.27, 13.24, 13.24, 13.23, 13.2 , 13.17, 13.17, 13.16, 13.16,\n",
       "       13.11, 13.11, 13.08, 13.07, 13.05, 13.05, 13.05, 13.05, 13.05,\n",
       "       13.05, 13.03, 12.99, 12.96, 12.93, 12.93, 12.88, 12.87, 12.86,\n",
       "       12.85, 12.85, 12.84, 12.82, 12.81, 12.79, 12.77, 12.77, 12.72,\n",
       "       12.72, 12.7 , 12.7 , 12.69, 12.67, 12.64, 12.6 , 12.6 , 12.58,\n",
       "       12.53, 12.52, 12.51, 12.51, 12.47, 12.45, 12.43, 12.42, 12.42,\n",
       "       12.42, 12.37, 12.37, 12.37, 12.37, 12.37, 12.37, 12.36, 12.34,\n",
       "       12.33, 12.33, 12.29, 12.29, 12.29, 12.29, 12.25, 12.25, 12.25,\n",
       "       12.22, 12.21, 12.2 , 12.17, 12.16, 12.08, 12.08, 12.08, 12.08,\n",
       "       12.08, 12.07, 12.04, 12.  , 12.  , 12.  , 11.96, 11.87, 11.84,\n",
       "       11.84, 11.82, 11.82, 11.81, 11.79, 11.76, 11.66, 11.65, 11.64,\n",
       "       11.62, 11.61, 11.56, 11.46, 11.45, 11.41, 11.03])"
      ]
     },
     "execution_count": 84,
     "metadata": {},
     "output_type": "execute_result"
    }
   ],
   "source": [
    "#reverse order using start:stop:step, using -1 sorts by decending\n",
    "np.sort(alcohol)[:: -1]"
   ]
  },
  {
   "cell_type": "code",
   "execution_count": 86,
   "id": "6986b746",
   "metadata": {},
   "outputs": [
    {
     "data": {
      "text/plain": [
       "array([115, 113, 120, 110, 121, 109,  94,  88,  87,  75, 112, 127,  96,\n",
       "       103, 116,  84,  77, 124,  74, 119,  91,  80, 129, 125,  82, 114,\n",
       "        89,  90, 100,  86,  64, 170,  69, 108, 144, 136, 106,  97,  70,\n",
       "        93,  99,  60,  78, 102, 160,  67,  65,  63,  98, 128,  59, 105,\n",
       "       122, 117, 126, 157,  95, 104, 134, 111, 137, 154, 135, 101,  61,\n",
       "        85,  92,  79, 133, 107,  81, 171, 118, 151, 132, 167, 139,  23,\n",
       "       162, 130, 147, 131,  21, 140, 163,  73,  76, 123,  44,  25,  83,\n",
       "        37,  50,  38, 149,  66, 152, 145,   2, 176, 155,   1, 153,   4,\n",
       "        43, 175,  36,  57,  27, 148,  68, 141,  26, 174, 169,  41, 166,\n",
       "       159,  35, 138,  72, 150,  24,  34, 142,  55,  40,  31, 168, 143,\n",
       "        15,  19,  62,  32, 161,  22, 173,  58,  30, 165,  54,  12,  33,\n",
       "        53, 164,  52,  51,  17, 156,  71,   9,  28,  42, 146,  47,  49,\n",
       "        29,  20,   7,  48,  10,  11, 177, 172,  18,   5,  45,  56,  39,\n",
       "         0,  16, 158,   3,  46,  14,   6,  13,   8])"
      ]
     },
     "execution_count": 86,
     "metadata": {},
     "output_type": "execute_result"
    }
   ],
   "source": [
    "np.argsort(alcohol) #shows all the indices "
   ]
  },
  {
   "cell_type": "code",
   "execution_count": 87,
   "id": "4742c0ce",
   "metadata": {},
   "outputs": [],
   "source": [
    "alcohol_sort_idxs = np.argsort(alcohol)[::-1] #shows all the indices sorted in reverse order"
   ]
  },
  {
   "cell_type": "code",
   "execution_count": 89,
   "id": "9fe580e9",
   "metadata": {},
   "outputs": [
    {
     "data": {
      "text/plain": [
       "array([[1.483e+01, 1.640e+00, 2.170e+00, ..., 1.080e+00, 2.850e+00,\n",
       "        1.045e+03],\n",
       "       [1.475e+01, 1.730e+00, 2.390e+00, ..., 1.250e+00, 2.730e+00,\n",
       "        1.150e+03],\n",
       "       [1.439e+01, 1.870e+00, 2.450e+00, ..., 1.020e+00, 3.580e+00,\n",
       "        1.290e+03],\n",
       "       ...,\n",
       "       [1.145e+01, 2.400e+00, 2.420e+00, ..., 8.000e-01, 3.390e+00,\n",
       "        6.250e+02],\n",
       "       [1.141e+01, 7.400e-01, 2.500e+00, ..., 1.100e+00, 2.310e+00,\n",
       "        4.340e+02],\n",
       "       [1.103e+01, 1.510e+00, 2.200e+00, ..., 1.710e+00, 2.870e+00,\n",
       "        4.070e+02]])"
      ]
     },
     "execution_count": 89,
     "metadata": {},
     "output_type": "execute_result"
    }
   ],
   "source": [
    "wine_data_arr[alcohol_sort_idxs]"
   ]
  },
  {
   "cell_type": "code",
   "execution_count": 90,
   "id": "f078cced",
   "metadata": {
    "scrolled": false
   },
   "outputs": [
    {
     "data": {
      "text/plain": [
       "array([[14.83,  1.64,  2.17],\n",
       "       [14.75,  1.73,  2.39],\n",
       "       [14.39,  1.87,  2.45],\n",
       "       [14.38,  1.87,  2.38],\n",
       "       [14.38,  3.59,  2.28],\n",
       "       [14.37,  1.95,  2.5 ],\n",
       "       [14.34,  1.68,  2.7 ],\n",
       "       [14.3 ,  1.92,  2.72],\n",
       "       [14.23,  1.71,  2.43],\n",
       "       [14.22,  3.99,  2.51],\n",
       "       [14.22,  1.7 ,  2.3 ],\n",
       "       [14.21,  4.04,  2.44],\n",
       "       [14.2 ,  1.76,  2.45],\n",
       "       [14.19,  1.59,  2.48],\n",
       "       [14.16,  2.51,  2.48],\n",
       "       [14.13,  4.1 ,  2.74],\n",
       "       [14.12,  1.48,  2.32],\n",
       "       [14.1 ,  2.16,  2.3 ],\n",
       "       [14.1 ,  2.02,  2.4 ],\n",
       "       [14.06,  2.15,  2.61],\n",
       "       [14.06,  1.63,  2.28],\n",
       "       [14.02,  1.68,  2.21],\n",
       "       [13.94,  1.73,  2.27],\n",
       "       [13.9 ,  1.68,  2.12],\n",
       "       [13.88,  5.04,  2.23],\n",
       "       [13.88,  1.89,  2.59],\n",
       "       [13.87,  1.9 ,  2.8 ],\n",
       "       [13.86,  1.35,  2.27],\n",
       "       [13.86,  1.51,  2.67],\n",
       "       [13.84,  4.12,  2.38],\n",
       "       [13.83,  1.57,  2.62],\n",
       "       [13.83,  1.65,  2.6 ],\n",
       "       [13.82,  1.75,  2.42],\n",
       "       [13.78,  2.76,  2.3 ],\n",
       "       [13.77,  1.9 ,  2.68],\n",
       "       [13.76,  1.53,  2.7 ],\n",
       "       [13.75,  1.73,  2.41],\n",
       "       [13.74,  1.67,  2.25],\n",
       "       [13.73,  4.36,  2.26],\n",
       "       [13.73,  1.5 ,  2.7 ],\n",
       "       [13.72,  1.43,  2.5 ],\n",
       "       [13.71,  5.65,  2.45],\n",
       "       [13.71,  1.86,  2.36],\n",
       "       [13.69,  3.26,  2.54],\n",
       "       [13.68,  1.83,  2.36],\n",
       "       [13.67,  1.25,  1.92],\n",
       "       [13.64,  3.1 ,  2.56],\n",
       "       [13.63,  1.81,  2.7 ],\n",
       "       [13.62,  4.95,  2.35],\n",
       "       [13.58,  2.58,  2.69],\n",
       "       [13.58,  1.66,  2.36],\n",
       "       [13.56,  1.71,  2.31],\n",
       "       [13.56,  1.73,  2.46],\n",
       "       [13.52,  3.17,  2.72],\n",
       "       [13.51,  1.8 ,  2.65],\n",
       "       [13.5 ,  1.81,  2.61],\n",
       "       [13.5 ,  3.12,  2.62],\n",
       "       [13.49,  1.66,  2.24],\n",
       "       [13.49,  3.59,  2.19],\n",
       "       [13.48,  1.81,  2.41],\n",
       "       [13.48,  1.67,  2.64],\n",
       "       [13.45,  3.7 ,  2.6 ],\n",
       "       [13.41,  3.84,  2.12],\n",
       "       [13.4 ,  4.6 ,  2.86],\n",
       "       [13.4 ,  3.91,  2.48],\n",
       "       [13.39,  1.77,  2.62],\n",
       "       [13.36,  2.56,  2.35],\n",
       "       [13.34,  0.94,  2.36],\n",
       "       [13.32,  3.24,  2.38],\n",
       "       [13.3 ,  1.72,  2.14],\n",
       "       [13.29,  1.97,  2.68],\n",
       "       [13.28,  1.64,  2.84],\n",
       "       [13.27,  4.28,  2.26],\n",
       "       [13.24,  3.98,  2.29],\n",
       "       [13.24,  2.59,  2.87],\n",
       "       [13.23,  3.3 ,  2.28],\n",
       "       [13.2 ,  1.78,  2.14],\n",
       "       [13.17,  5.19,  2.32],\n",
       "       [13.17,  2.59,  2.37],\n",
       "       [13.16,  2.36,  2.67],\n",
       "       [13.16,  3.57,  2.15],\n",
       "       [13.11,  1.9 ,  2.75],\n",
       "       [13.11,  1.01,  1.7 ],\n",
       "       [13.08,  3.9 ,  2.36],\n",
       "       [13.07,  1.5 ,  2.1 ],\n",
       "       [13.05,  1.73,  2.04],\n",
       "       [13.05,  1.65,  2.55],\n",
       "       [13.05,  3.86,  2.32],\n",
       "       [13.05,  2.05,  3.22],\n",
       "       [13.05,  1.77,  2.1 ],\n",
       "       [13.05,  5.8 ,  2.13],\n",
       "       [13.03,  0.9 ,  1.71],\n",
       "       [12.99,  1.67,  2.6 ],\n",
       "       [12.96,  3.45,  2.35],\n",
       "       [12.93,  2.81,  2.7 ],\n",
       "       [12.93,  3.8 ,  2.65],\n",
       "       [12.88,  2.99,  2.4 ],\n",
       "       [12.87,  4.61,  2.48],\n",
       "       [12.86,  1.35,  2.32],\n",
       "       [12.85,  3.27,  2.58],\n",
       "       [12.85,  1.6 ,  2.52],\n",
       "       [12.84,  2.96,  2.61],\n",
       "       [12.82,  3.37,  2.3 ],\n",
       "       [12.81,  2.31,  2.4 ],\n",
       "       [12.79,  2.67,  2.48],\n",
       "       [12.77,  3.43,  1.98],\n",
       "       [12.77,  2.39,  2.28],\n",
       "       [12.72,  1.81,  2.2 ],\n",
       "       [12.72,  1.75,  2.28],\n",
       "       [12.7 ,  3.55,  2.36],\n",
       "       [12.7 ,  3.87,  2.4 ],\n",
       "       [12.69,  1.53,  2.26],\n",
       "       [12.67,  0.98,  2.24],\n",
       "       [12.64,  1.36,  2.02],\n",
       "       [12.6 ,  1.34,  1.9 ],\n",
       "       [12.6 ,  2.46,  2.2 ],\n",
       "       [12.58,  1.29,  2.1 ],\n",
       "       [12.53,  5.51,  2.64],\n",
       "       [12.52,  2.43,  2.17],\n",
       "       [12.51,  1.24,  2.25],\n",
       "       [12.51,  1.73,  1.98],\n",
       "       [12.47,  1.52,  2.2 ],\n",
       "       [12.45,  3.03,  2.64],\n",
       "       [12.43,  1.53,  2.29],\n",
       "       [12.42,  1.61,  2.19],\n",
       "       [12.42,  4.43,  2.73],\n",
       "       [12.42,  2.55,  2.27],\n",
       "       [12.37,  0.94,  1.36],\n",
       "       [12.37,  1.63,  2.3 ],\n",
       "       [12.37,  1.07,  2.1 ],\n",
       "       [12.37,  1.13,  2.16],\n",
       "       [12.37,  1.21,  2.56],\n",
       "       [12.37,  1.17,  1.92],\n",
       "       [12.36,  3.83,  2.38],\n",
       "       [12.34,  2.45,  2.46],\n",
       "       [12.33,  0.99,  1.95],\n",
       "       [12.33,  1.1 ,  2.28],\n",
       "       [12.29,  3.17,  2.21],\n",
       "       [12.29,  2.83,  2.22],\n",
       "       [12.29,  1.61,  2.21],\n",
       "       [12.29,  1.41,  1.98],\n",
       "       [12.25,  1.73,  2.12],\n",
       "       [12.25,  4.72,  2.54],\n",
       "       [12.25,  3.88,  2.2 ],\n",
       "       [12.22,  1.29,  1.94],\n",
       "       [12.21,  1.19,  1.75],\n",
       "       [12.2 ,  3.03,  2.32],\n",
       "       [12.17,  1.45,  2.53],\n",
       "       [12.16,  1.61,  2.31],\n",
       "       [12.08,  2.08,  1.7 ],\n",
       "       [12.08,  1.83,  2.32],\n",
       "       [12.08,  1.33,  2.3 ],\n",
       "       [12.08,  1.39,  2.5 ],\n",
       "       [12.08,  1.13,  2.51],\n",
       "       [12.07,  2.16,  2.17],\n",
       "       [12.04,  4.3 ,  2.38],\n",
       "       [12.  ,  0.92,  2.  ],\n",
       "       [12.  ,  1.51,  2.42],\n",
       "       [12.  ,  3.43,  2.  ],\n",
       "       [11.96,  1.09,  2.3 ],\n",
       "       [11.87,  4.31,  2.39],\n",
       "       [11.84,  2.89,  2.23],\n",
       "       [11.84,  0.89,  2.58],\n",
       "       [11.82,  1.47,  1.99],\n",
       "       [11.82,  1.72,  1.88],\n",
       "       [11.81,  2.12,  2.74],\n",
       "       [11.79,  2.13,  2.78],\n",
       "       [11.76,  2.68,  2.92],\n",
       "       [11.66,  1.88,  1.92],\n",
       "       [11.65,  1.67,  2.62],\n",
       "       [11.64,  2.06,  2.46],\n",
       "       [11.62,  1.99,  2.28],\n",
       "       [11.61,  1.35,  2.7 ],\n",
       "       [11.56,  2.05,  3.23],\n",
       "       [11.46,  3.74,  1.82],\n",
       "       [11.45,  2.4 ,  2.42],\n",
       "       [11.41,  0.74,  2.5 ],\n",
       "       [11.03,  1.51,  2.2 ]])"
      ]
     },
     "execution_count": 90,
     "metadata": {},
     "output_type": "execute_result"
    }
   ],
   "source": [
    "#get all rows of first three cols\n",
    "wine_data_arr[alcohol_sort_idxs][:,:3]"
   ]
  },
  {
   "cell_type": "code",
   "execution_count": 91,
   "id": "f30ee372",
   "metadata": {},
   "outputs": [],
   "source": [
    "import pandas as pd"
   ]
  },
  {
   "cell_type": "code",
   "execution_count": 92,
   "id": "1d05dde5",
   "metadata": {},
   "outputs": [],
   "source": [
    "#turn in df\n",
    "df = pd.DataFrame(wine_data_arr, columns = feature_names)"
   ]
  },
  {
   "cell_type": "code",
   "execution_count": 93,
   "id": "741e37ab",
   "metadata": {},
   "outputs": [
    {
     "data": {
      "text/html": [
       "<div>\n",
       "<style scoped>\n",
       "    .dataframe tbody tr th:only-of-type {\n",
       "        vertical-align: middle;\n",
       "    }\n",
       "\n",
       "    .dataframe tbody tr th {\n",
       "        vertical-align: top;\n",
       "    }\n",
       "\n",
       "    .dataframe thead th {\n",
       "        text-align: right;\n",
       "    }\n",
       "</style>\n",
       "<table border=\"1\" class=\"dataframe\">\n",
       "  <thead>\n",
       "    <tr style=\"text-align: right;\">\n",
       "      <th></th>\n",
       "      <th>alcohol</th>\n",
       "      <th>malic_acid</th>\n",
       "      <th>ash</th>\n",
       "      <th>alcalinity_of_ash</th>\n",
       "      <th>magnesium</th>\n",
       "      <th>total_phenols</th>\n",
       "      <th>flavanoids</th>\n",
       "      <th>nonflavanoid_phenols</th>\n",
       "      <th>proanthocyanins</th>\n",
       "      <th>color_intensity</th>\n",
       "      <th>hue</th>\n",
       "      <th>od280/od315_of_diluted_wines</th>\n",
       "      <th>proline</th>\n",
       "    </tr>\n",
       "  </thead>\n",
       "  <tbody>\n",
       "    <tr>\n",
       "      <th>0</th>\n",
       "      <td>14.23</td>\n",
       "      <td>1.71</td>\n",
       "      <td>2.43</td>\n",
       "      <td>15.6</td>\n",
       "      <td>127.0</td>\n",
       "      <td>2.80</td>\n",
       "      <td>3.06</td>\n",
       "      <td>0.28</td>\n",
       "      <td>2.29</td>\n",
       "      <td>5.64</td>\n",
       "      <td>1.04</td>\n",
       "      <td>3.92</td>\n",
       "      <td>1065.0</td>\n",
       "    </tr>\n",
       "    <tr>\n",
       "      <th>1</th>\n",
       "      <td>13.20</td>\n",
       "      <td>1.78</td>\n",
       "      <td>2.14</td>\n",
       "      <td>11.2</td>\n",
       "      <td>100.0</td>\n",
       "      <td>2.65</td>\n",
       "      <td>2.76</td>\n",
       "      <td>0.26</td>\n",
       "      <td>1.28</td>\n",
       "      <td>4.38</td>\n",
       "      <td>1.05</td>\n",
       "      <td>3.40</td>\n",
       "      <td>1050.0</td>\n",
       "    </tr>\n",
       "    <tr>\n",
       "      <th>2</th>\n",
       "      <td>13.16</td>\n",
       "      <td>2.36</td>\n",
       "      <td>2.67</td>\n",
       "      <td>18.6</td>\n",
       "      <td>101.0</td>\n",
       "      <td>2.80</td>\n",
       "      <td>3.24</td>\n",
       "      <td>0.30</td>\n",
       "      <td>2.81</td>\n",
       "      <td>5.68</td>\n",
       "      <td>1.03</td>\n",
       "      <td>3.17</td>\n",
       "      <td>1185.0</td>\n",
       "    </tr>\n",
       "    <tr>\n",
       "      <th>3</th>\n",
       "      <td>14.37</td>\n",
       "      <td>1.95</td>\n",
       "      <td>2.50</td>\n",
       "      <td>16.8</td>\n",
       "      <td>113.0</td>\n",
       "      <td>3.85</td>\n",
       "      <td>3.49</td>\n",
       "      <td>0.24</td>\n",
       "      <td>2.18</td>\n",
       "      <td>7.80</td>\n",
       "      <td>0.86</td>\n",
       "      <td>3.45</td>\n",
       "      <td>1480.0</td>\n",
       "    </tr>\n",
       "    <tr>\n",
       "      <th>4</th>\n",
       "      <td>13.24</td>\n",
       "      <td>2.59</td>\n",
       "      <td>2.87</td>\n",
       "      <td>21.0</td>\n",
       "      <td>118.0</td>\n",
       "      <td>2.80</td>\n",
       "      <td>2.69</td>\n",
       "      <td>0.39</td>\n",
       "      <td>1.82</td>\n",
       "      <td>4.32</td>\n",
       "      <td>1.04</td>\n",
       "      <td>2.93</td>\n",
       "      <td>735.0</td>\n",
       "    </tr>\n",
       "  </tbody>\n",
       "</table>\n",
       "</div>"
      ],
      "text/plain": [
       "   alcohol  malic_acid   ash  alcalinity_of_ash  magnesium  total_phenols  \\\n",
       "0    14.23        1.71  2.43               15.6      127.0           2.80   \n",
       "1    13.20        1.78  2.14               11.2      100.0           2.65   \n",
       "2    13.16        2.36  2.67               18.6      101.0           2.80   \n",
       "3    14.37        1.95  2.50               16.8      113.0           3.85   \n",
       "4    13.24        2.59  2.87               21.0      118.0           2.80   \n",
       "\n",
       "   flavanoids  nonflavanoid_phenols  proanthocyanins  color_intensity   hue  \\\n",
       "0        3.06                  0.28             2.29             5.64  1.04   \n",
       "1        2.76                  0.26             1.28             4.38  1.05   \n",
       "2        3.24                  0.30             2.81             5.68  1.03   \n",
       "3        3.49                  0.24             2.18             7.80  0.86   \n",
       "4        2.69                  0.39             1.82             4.32  1.04   \n",
       "\n",
       "   od280/od315_of_diluted_wines  proline  \n",
       "0                          3.92   1065.0  \n",
       "1                          3.40   1050.0  \n",
       "2                          3.17   1185.0  \n",
       "3                          3.45   1480.0  \n",
       "4                          2.93    735.0  "
      ]
     },
     "execution_count": 93,
     "metadata": {},
     "output_type": "execute_result"
    }
   ],
   "source": [
    "df.head()"
   ]
  },
  {
   "cell_type": "code",
   "execution_count": 94,
   "id": "20155f37",
   "metadata": {},
   "outputs": [
    {
     "data": {
      "text/plain": [
       "array([[1.423e+01, 1.710e+00, 2.430e+00, ..., 1.040e+00, 3.920e+00,\n",
       "        1.065e+03],\n",
       "       [1.320e+01, 1.780e+00, 2.140e+00, ..., 1.050e+00, 3.400e+00,\n",
       "        1.050e+03],\n",
       "       [1.316e+01, 2.360e+00, 2.670e+00, ..., 1.030e+00, 3.170e+00,\n",
       "        1.185e+03],\n",
       "       ...,\n",
       "       [1.327e+01, 4.280e+00, 2.260e+00, ..., 5.900e-01, 1.560e+00,\n",
       "        8.350e+02],\n",
       "       [1.317e+01, 2.590e+00, 2.370e+00, ..., 6.000e-01, 1.620e+00,\n",
       "        8.400e+02],\n",
       "       [1.413e+01, 4.100e+00, 2.740e+00, ..., 6.100e-01, 1.600e+00,\n",
       "        5.600e+02]])"
      ]
     },
     "execution_count": 94,
     "metadata": {},
     "output_type": "execute_result"
    }
   ],
   "source": [
    "#how to get np array/series from df\n",
    "df.values"
   ]
  },
  {
   "cell_type": "code",
   "execution_count": 95,
   "id": "7a16d868",
   "metadata": {},
   "outputs": [
    {
     "data": {
      "text/plain": [
       "array([1065., 1050., 1185., 1480.,  735., 1450., 1290., 1295., 1045.,\n",
       "       1045., 1510., 1280., 1320., 1150., 1547., 1310., 1280., 1130.,\n",
       "       1680.,  845.,  780.,  770., 1035., 1015.,  845.,  830., 1195.,\n",
       "       1285.,  915., 1035., 1285., 1515.,  990., 1235., 1095.,  920.,\n",
       "        880., 1105., 1020.,  760.,  795., 1035., 1095.,  680.,  885.,\n",
       "       1080., 1065.,  985., 1060., 1260., 1150., 1265., 1190., 1375.,\n",
       "       1060., 1120.,  970., 1270., 1285.,  520.,  680.,  450.,  630.,\n",
       "        420.,  355.,  678.,  502.,  510.,  750.,  718.,  870.,  410.,\n",
       "        472.,  985.,  886.,  428.,  392.,  500.,  750.,  463.,  278.,\n",
       "        714.,  630.,  515.,  520.,  450.,  495.,  562.,  680.,  625.,\n",
       "        480.,  450.,  495.,  290.,  345.,  937.,  625.,  428.,  660.,\n",
       "        406.,  710.,  562.,  438.,  415.,  672.,  315.,  510.,  488.,\n",
       "        312.,  680.,  562.,  325.,  607.,  434.,  385.,  407.,  495.,\n",
       "        345.,  372.,  564.,  625.,  465.,  365.,  380.,  380.,  378.,\n",
       "        352.,  466.,  342.,  580.,  630.,  530.,  560.,  600.,  650.,\n",
       "        695.,  720.,  515.,  580.,  590.,  600.,  780.,  520.,  550.,\n",
       "        855.,  830.,  415.,  625.,  650.,  550.,  500.,  480.,  425.,\n",
       "        675.,  640.,  725.,  480.,  880.,  660.,  620.,  520.,  680.,\n",
       "        570.,  675.,  615.,  520.,  695.,  685.,  750.,  630.,  510.,\n",
       "        470.,  660.,  740.,  750.,  835.,  840.,  560.])"
      ]
     },
     "execution_count": 95,
     "metadata": {},
     "output_type": "execute_result"
    }
   ],
   "source": [
    "df[\"proline\"].values"
   ]
  },
  {
   "cell_type": "code",
   "execution_count": 99,
   "id": "2daa8470",
   "metadata": {},
   "outputs": [
    {
     "data": {
      "text/plain": [
       "array([ 1,  4,  7, 10, 13, 16, 19, 22, 25, 28, 31, 34, 37, 40, 43, 46, 49,\n",
       "       52, 55, 58, 61, 64, 67, 70, 73, 76, 79, 82, 85, 88, 91, 94, 97])"
      ]
     },
     "execution_count": 99,
     "metadata": {},
     "output_type": "execute_result"
    }
   ],
   "source": [
    "#from 1 to 100 exclusive, by step of 3\n",
    "#this is used when you want to create a range of intergers\n",
    "\n",
    "np.arange(1, 100, 3)"
   ]
  },
  {
   "cell_type": "code",
   "execution_count": 101,
   "id": "3a22d3b6",
   "metadata": {},
   "outputs": [
    {
     "data": {
      "text/plain": [
       "array([0.        , 0.01010101, 0.02020202, 0.03030303, 0.04040404,\n",
       "       0.05050505, 0.06060606, 0.07070707, 0.08080808, 0.09090909,\n",
       "       0.1010101 , 0.11111111, 0.12121212, 0.13131313, 0.14141414,\n",
       "       0.15151515, 0.16161616, 0.17171717, 0.18181818, 0.19191919,\n",
       "       0.2020202 , 0.21212121, 0.22222222, 0.23232323, 0.24242424,\n",
       "       0.25252525, 0.26262626, 0.27272727, 0.28282828, 0.29292929,\n",
       "       0.3030303 , 0.31313131, 0.32323232, 0.33333333, 0.34343434,\n",
       "       0.35353535, 0.36363636, 0.37373737, 0.38383838, 0.39393939,\n",
       "       0.4040404 , 0.41414141, 0.42424242, 0.43434343, 0.44444444,\n",
       "       0.45454545, 0.46464646, 0.47474747, 0.48484848, 0.49494949,\n",
       "       0.50505051, 0.51515152, 0.52525253, 0.53535354, 0.54545455,\n",
       "       0.55555556, 0.56565657, 0.57575758, 0.58585859, 0.5959596 ,\n",
       "       0.60606061, 0.61616162, 0.62626263, 0.63636364, 0.64646465,\n",
       "       0.65656566, 0.66666667, 0.67676768, 0.68686869, 0.6969697 ,\n",
       "       0.70707071, 0.71717172, 0.72727273, 0.73737374, 0.74747475,\n",
       "       0.75757576, 0.76767677, 0.77777778, 0.78787879, 0.7979798 ,\n",
       "       0.80808081, 0.81818182, 0.82828283, 0.83838384, 0.84848485,\n",
       "       0.85858586, 0.86868687, 0.87878788, 0.88888889, 0.8989899 ,\n",
       "       0.90909091, 0.91919192, 0.92929293, 0.93939394, 0.94949495,\n",
       "       0.95959596, 0.96969697, 0.97979798, 0.98989899, 1.        ])"
      ]
     },
     "execution_count": 101,
     "metadata": {},
     "output_type": "execute_result"
    }
   ],
   "source": [
    "#this is used to create a range of floats\n",
    "# from 0 to 1 inclusive, 100 evenly spaced floats\n",
    "np.linspace(0, 1, 100)"
   ]
  },
  {
   "cell_type": "code",
   "execution_count": 103,
   "id": "930cbf69",
   "metadata": {},
   "outputs": [],
   "source": [
    "from sklearn.datasets import load_digits"
   ]
  },
  {
   "cell_type": "code",
   "execution_count": 104,
   "id": "cf16d9d4",
   "metadata": {},
   "outputs": [],
   "source": [
    "data_bunch_digits = load_digits()"
   ]
  },
  {
   "cell_type": "code",
   "execution_count": 105,
   "id": "4afa16c3",
   "metadata": {},
   "outputs": [],
   "source": [
    "digits_data = data_bunch_digits[\"data\"]"
   ]
  },
  {
   "cell_type": "code",
   "execution_count": 106,
   "id": "285b3a5a",
   "metadata": {},
   "outputs": [
    {
     "data": {
      "text/plain": [
       "(1797, 64)"
      ]
     },
     "execution_count": 106,
     "metadata": {},
     "output_type": "execute_result"
    }
   ],
   "source": [
    "digits_data.shape"
   ]
  },
  {
   "cell_type": "code",
   "execution_count": 107,
   "id": "3a27908f",
   "metadata": {},
   "outputs": [
    {
     "data": {
      "text/plain": [
       "array([ 0.,  0.,  5., 13.,  9.,  1.,  0.,  0.,  0.,  0., 13., 15., 10.,\n",
       "       15.,  5.,  0.,  0.,  3., 15.,  2.,  0., 11.,  8.,  0.,  0.,  4.,\n",
       "       12.,  0.,  0.,  8.,  8.,  0.,  0.,  5.,  8.,  0.,  0.,  9.,  8.,\n",
       "        0.,  0.,  4., 11.,  0.,  1., 12.,  7.,  0.,  0.,  2., 14.,  5.,\n",
       "       10., 12.,  0.,  0.,  0.,  0.,  6., 13., 10.,  0.,  0.,  0.])"
      ]
     },
     "execution_count": 107,
     "metadata": {},
     "output_type": "execute_result"
    }
   ],
   "source": [
    "digits_data[0]"
   ]
  },
  {
   "cell_type": "code",
   "execution_count": 108,
   "id": "e78d4adf",
   "metadata": {},
   "outputs": [
    {
     "data": {
      "text/plain": [
       "array([[ 0.,  0.,  5., 13.,  9.,  1.,  0.,  0.],\n",
       "       [ 0.,  0., 13., 15., 10., 15.,  5.,  0.],\n",
       "       [ 0.,  3., 15.,  2.,  0., 11.,  8.,  0.],\n",
       "       [ 0.,  4., 12.,  0.,  0.,  8.,  8.,  0.],\n",
       "       [ 0.,  5.,  8.,  0.,  0.,  9.,  8.,  0.],\n",
       "       [ 0.,  4., 11.,  0.,  1., 12.,  7.,  0.],\n",
       "       [ 0.,  2., 14.,  5., 10., 12.,  0.,  0.],\n",
       "       [ 0.,  0.,  6., 13., 10.,  0.,  0.,  0.]])"
      ]
     },
     "execution_count": 108,
     "metadata": {},
     "output_type": "execute_result"
    }
   ],
   "source": [
    "np.reshape(digits_data[0], (8, 8))"
   ]
  },
  {
   "cell_type": "code",
   "execution_count": 109,
   "id": "4fe76d9f",
   "metadata": {},
   "outputs": [],
   "source": [
    "import matplotlib.pyplot as plt"
   ]
  },
  {
   "cell_type": "code",
   "execution_count": 110,
   "id": "a8644d3f",
   "metadata": {},
   "outputs": [
    {
     "data": {
      "text/plain": [
       "<matplotlib.image.AxesImage at 0x7f96ca78eb20>"
      ]
     },
     "execution_count": 110,
     "metadata": {},
     "output_type": "execute_result"
    },
    {
     "data": {
      "image/png": "[encoded data removed]",
      "text/plain": [
       "<Figure size 432x288 with 1 Axes>"
      ]
     },
     "metadata": {
      "needs_background": "light"
     },
     "output_type": "display_data"
    }
   ],
   "source": [
    "plt.imshow(np.reshape(digits_data[0], (8, 8)))"
   ]
  },
  {
   "cell_type": "code",
   "execution_count": 111,
   "id": "72e2aca9",
   "metadata": {},
   "outputs": [
    {
     "data": {
      "text/plain": [
       "<matplotlib.image.AxesImage at 0x7f96ca90fb50>"
      ]
     },
     "execution_count": 111,
     "metadata": {},
     "output_type": "execute_result"
    },
    {
     "data": {
      "image/png": "[encoded data removed]",
      "text/plain": [
       "<Figure size 432x288 with 1 Axes>"
      ]
     },
     "metadata": {
      "needs_background": "light"
     },
     "output_type": "display_data"
    }
   ],
   "source": [
    "plt.imshow(np.reshape(digits_data[0], (8, 8)), cmap = \"gray\")"
   ]
  },
  {
   "cell_type": "code",
   "execution_count": 112,
   "id": "f5521e2e",
   "metadata": {},
   "outputs": [],
   "source": [
    "image_2d = np.reshape(digits_data[0], (8, 8))"
   ]
  },
  {
   "cell_type": "code",
   "execution_count": 113,
   "id": "31d1bfe1",
   "metadata": {},
   "outputs": [
    {
     "data": {
      "text/plain": [
       "(8, 8)"
      ]
     },
     "execution_count": 113,
     "metadata": {},
     "output_type": "execute_result"
    }
   ],
   "source": [
    "image_2d.shape"
   ]
  },
  {
   "cell_type": "code",
   "execution_count": 114,
   "id": "89f946d4",
   "metadata": {},
   "outputs": [
    {
     "data": {
      "text/plain": [
       "array([ 0.,  0.,  5., 13.,  9.,  1.,  0.,  0.,  0.,  0., 13., 15., 10.,\n",
       "       15.,  5.,  0.,  0.,  3., 15.,  2.,  0., 11.,  8.,  0.,  0.,  4.,\n",
       "       12.,  0.,  0.,  8.,  8.,  0.,  0.,  5.,  8.,  0.,  0.,  9.,  8.,\n",
       "        0.,  0.,  4., 11.,  0.,  1., 12.,  7.,  0.,  0.,  2., 14.,  5.,\n",
       "       10., 12.,  0.,  0.,  0.,  0.,  6., 13., 10.,  0.,  0.,  0.])"
      ]
     },
     "execution_count": 114,
     "metadata": {},
     "output_type": "execute_result"
    }
   ],
   "source": [
    "image_2d.flatten()"
   ]
  },
  {
   "cell_type": "code",
   "execution_count": 115,
   "id": "b279db40",
   "metadata": {},
   "outputs": [
    {
     "data": {
      "text/plain": [
       "(64,)"
      ]
     },
     "execution_count": 115,
     "metadata": {},
     "output_type": "execute_result"
    }
   ],
   "source": [
    "image_2d.flatten().shape"
   ]
  },
  {
   "cell_type": "code",
   "execution_count": null,
   "id": "2fec994d",
   "metadata": {},
   "outputs": [],
   "source": []
  }
 ],
 "metadata": {
  "kernelspec": {
   "display_name": "Python 3 (ipykernel)",
   "language": "python",
   "name": "python3"
  },
  "language_info": {
   "codemirror_mode": {
    "name": "ipython",
    "version": 3
   },
   "file_extension": ".py",
   "mimetype": "text/x-python",
   "name": "python",
   "nbconvert_exporter": "python",
   "pygments_lexer": "ipython3",
   "version": "3.9.7"
  }
 },
 "nbformat": 4,
 "nbformat_minor": 5
}
